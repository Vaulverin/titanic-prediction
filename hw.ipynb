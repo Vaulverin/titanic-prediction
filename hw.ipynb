{
 "cells": [
  {
   "cell_type": "code",
   "execution_count": 241,
   "metadata": {},
   "outputs": [
    {
     "data": {
      "text/html": [
       "<div>\n",
       "<style>\n",
       "    .dataframe thead tr:only-child th {\n",
       "        text-align: right;\n",
       "    }\n",
       "\n",
       "    .dataframe thead th {\n",
       "        text-align: left;\n",
       "    }\n",
       "\n",
       "    .dataframe tbody tr th {\n",
       "        vertical-align: top;\n",
       "    }\n",
       "</style>\n",
       "<table border=\"1\" class=\"dataframe\">\n",
       "  <thead>\n",
       "    <tr style=\"text-align: right;\">\n",
       "      <th></th>\n",
       "      <th>PassengerId</th>\n",
       "      <th>Survived</th>\n",
       "      <th>Pclass</th>\n",
       "      <th>Name</th>\n",
       "      <th>Sex</th>\n",
       "      <th>Age</th>\n",
       "      <th>SibSp</th>\n",
       "      <th>Parch</th>\n",
       "      <th>Ticket</th>\n",
       "      <th>Fare</th>\n",
       "      <th>Cabin</th>\n",
       "      <th>Embarked</th>\n",
       "    </tr>\n",
       "  </thead>\n",
       "  <tbody>\n",
       "    <tr>\n",
       "      <th>0</th>\n",
       "      <td>1</td>\n",
       "      <td>0</td>\n",
       "      <td>3</td>\n",
       "      <td>Braund, Mr. Owen Harris</td>\n",
       "      <td>male</td>\n",
       "      <td>22.0</td>\n",
       "      <td>1</td>\n",
       "      <td>0</td>\n",
       "      <td>A/5 21171</td>\n",
       "      <td>7.2500</td>\n",
       "      <td>NaN</td>\n",
       "      <td>S</td>\n",
       "    </tr>\n",
       "    <tr>\n",
       "      <th>1</th>\n",
       "      <td>2</td>\n",
       "      <td>1</td>\n",
       "      <td>1</td>\n",
       "      <td>Cumings, Mrs. John Bradley (Florence Briggs Th...</td>\n",
       "      <td>female</td>\n",
       "      <td>38.0</td>\n",
       "      <td>1</td>\n",
       "      <td>0</td>\n",
       "      <td>PC 17599</td>\n",
       "      <td>71.2833</td>\n",
       "      <td>C85</td>\n",
       "      <td>C</td>\n",
       "    </tr>\n",
       "    <tr>\n",
       "      <th>2</th>\n",
       "      <td>3</td>\n",
       "      <td>1</td>\n",
       "      <td>3</td>\n",
       "      <td>Heikkinen, Miss. Laina</td>\n",
       "      <td>female</td>\n",
       "      <td>26.0</td>\n",
       "      <td>0</td>\n",
       "      <td>0</td>\n",
       "      <td>STON/O2. 3101282</td>\n",
       "      <td>7.9250</td>\n",
       "      <td>NaN</td>\n",
       "      <td>S</td>\n",
       "    </tr>\n",
       "    <tr>\n",
       "      <th>3</th>\n",
       "      <td>4</td>\n",
       "      <td>1</td>\n",
       "      <td>1</td>\n",
       "      <td>Futrelle, Mrs. Jacques Heath (Lily May Peel)</td>\n",
       "      <td>female</td>\n",
       "      <td>35.0</td>\n",
       "      <td>1</td>\n",
       "      <td>0</td>\n",
       "      <td>113803</td>\n",
       "      <td>53.1000</td>\n",
       "      <td>C123</td>\n",
       "      <td>S</td>\n",
       "    </tr>\n",
       "    <tr>\n",
       "      <th>4</th>\n",
       "      <td>5</td>\n",
       "      <td>0</td>\n",
       "      <td>3</td>\n",
       "      <td>Allen, Mr. William Henry</td>\n",
       "      <td>male</td>\n",
       "      <td>35.0</td>\n",
       "      <td>0</td>\n",
       "      <td>0</td>\n",
       "      <td>373450</td>\n",
       "      <td>8.0500</td>\n",
       "      <td>NaN</td>\n",
       "      <td>S</td>\n",
       "    </tr>\n",
       "  </tbody>\n",
       "</table>\n",
       "</div>"
      ],
      "text/plain": [
       "   PassengerId  Survived  Pclass  \\\n",
       "0            1         0       3   \n",
       "1            2         1       1   \n",
       "2            3         1       3   \n",
       "3            4         1       1   \n",
       "4            5         0       3   \n",
       "\n",
       "                                                Name     Sex   Age  SibSp  \\\n",
       "0                            Braund, Mr. Owen Harris    male  22.0      1   \n",
       "1  Cumings, Mrs. John Bradley (Florence Briggs Th...  female  38.0      1   \n",
       "2                             Heikkinen, Miss. Laina  female  26.0      0   \n",
       "3       Futrelle, Mrs. Jacques Heath (Lily May Peel)  female  35.0      1   \n",
       "4                           Allen, Mr. William Henry    male  35.0      0   \n",
       "\n",
       "   Parch            Ticket     Fare Cabin Embarked  \n",
       "0      0         A/5 21171   7.2500   NaN        S  \n",
       "1      0          PC 17599  71.2833   C85        C  \n",
       "2      0  STON/O2. 3101282   7.9250   NaN        S  \n",
       "3      0            113803  53.1000  C123        S  \n",
       "4      0            373450   8.0500   NaN        S  "
      ]
     },
     "execution_count": 241,
     "metadata": {},
     "output_type": "execute_result"
    }
   ],
   "source": [
    "import pandas as pd\n",
    "import numpy as np\n",
    "%matplotlib inline\n",
    "df_test = pd.read_csv('test.csv', na_values='NaN')\n",
    "df_train = pd.read_csv('train.csv', na_values='NaN')\n",
    "df_train.head()"
   ]
  },
  {
   "cell_type": "code",
   "execution_count": 191,
   "metadata": {},
   "outputs": [
    {
     "data": {
      "text/html": [
       "<div>\n",
       "<style>\n",
       "    .dataframe thead tr:only-child th {\n",
       "        text-align: right;\n",
       "    }\n",
       "\n",
       "    .dataframe thead th {\n",
       "        text-align: left;\n",
       "    }\n",
       "\n",
       "    .dataframe tbody tr th {\n",
       "        vertical-align: top;\n",
       "    }\n",
       "</style>\n",
       "<table border=\"1\" class=\"dataframe\">\n",
       "  <thead>\n",
       "    <tr style=\"text-align: right;\">\n",
       "      <th></th>\n",
       "      <th>PassengerId</th>\n",
       "      <th>Survived</th>\n",
       "      <th>Pclass</th>\n",
       "      <th>Age</th>\n",
       "      <th>SibSp</th>\n",
       "      <th>Parch</th>\n",
       "      <th>Fare</th>\n",
       "    </tr>\n",
       "  </thead>\n",
       "  <tbody>\n",
       "    <tr>\n",
       "      <th>count</th>\n",
       "      <td>891.000000</td>\n",
       "      <td>891.000000</td>\n",
       "      <td>891.000000</td>\n",
       "      <td>714.000000</td>\n",
       "      <td>891.000000</td>\n",
       "      <td>891.000000</td>\n",
       "      <td>891.000000</td>\n",
       "    </tr>\n",
       "    <tr>\n",
       "      <th>mean</th>\n",
       "      <td>446.000000</td>\n",
       "      <td>0.383838</td>\n",
       "      <td>2.308642</td>\n",
       "      <td>29.699118</td>\n",
       "      <td>0.523008</td>\n",
       "      <td>0.381594</td>\n",
       "      <td>32.204208</td>\n",
       "    </tr>\n",
       "    <tr>\n",
       "      <th>std</th>\n",
       "      <td>257.353842</td>\n",
       "      <td>0.486592</td>\n",
       "      <td>0.836071</td>\n",
       "      <td>14.526497</td>\n",
       "      <td>1.102743</td>\n",
       "      <td>0.806057</td>\n",
       "      <td>49.693429</td>\n",
       "    </tr>\n",
       "    <tr>\n",
       "      <th>min</th>\n",
       "      <td>1.000000</td>\n",
       "      <td>0.000000</td>\n",
       "      <td>1.000000</td>\n",
       "      <td>0.420000</td>\n",
       "      <td>0.000000</td>\n",
       "      <td>0.000000</td>\n",
       "      <td>0.000000</td>\n",
       "    </tr>\n",
       "    <tr>\n",
       "      <th>25%</th>\n",
       "      <td>223.500000</td>\n",
       "      <td>0.000000</td>\n",
       "      <td>2.000000</td>\n",
       "      <td>20.125000</td>\n",
       "      <td>0.000000</td>\n",
       "      <td>0.000000</td>\n",
       "      <td>7.910400</td>\n",
       "    </tr>\n",
       "    <tr>\n",
       "      <th>50%</th>\n",
       "      <td>446.000000</td>\n",
       "      <td>0.000000</td>\n",
       "      <td>3.000000</td>\n",
       "      <td>28.000000</td>\n",
       "      <td>0.000000</td>\n",
       "      <td>0.000000</td>\n",
       "      <td>14.454200</td>\n",
       "    </tr>\n",
       "    <tr>\n",
       "      <th>75%</th>\n",
       "      <td>668.500000</td>\n",
       "      <td>1.000000</td>\n",
       "      <td>3.000000</td>\n",
       "      <td>38.000000</td>\n",
       "      <td>1.000000</td>\n",
       "      <td>0.000000</td>\n",
       "      <td>31.000000</td>\n",
       "    </tr>\n",
       "    <tr>\n",
       "      <th>max</th>\n",
       "      <td>891.000000</td>\n",
       "      <td>1.000000</td>\n",
       "      <td>3.000000</td>\n",
       "      <td>80.000000</td>\n",
       "      <td>8.000000</td>\n",
       "      <td>6.000000</td>\n",
       "      <td>512.329200</td>\n",
       "    </tr>\n",
       "  </tbody>\n",
       "</table>\n",
       "</div>"
      ],
      "text/plain": [
       "       PassengerId    Survived      Pclass         Age       SibSp  \\\n",
       "count   891.000000  891.000000  891.000000  714.000000  891.000000   \n",
       "mean    446.000000    0.383838    2.308642   29.699118    0.523008   \n",
       "std     257.353842    0.486592    0.836071   14.526497    1.102743   \n",
       "min       1.000000    0.000000    1.000000    0.420000    0.000000   \n",
       "25%     223.500000    0.000000    2.000000   20.125000    0.000000   \n",
       "50%     446.000000    0.000000    3.000000   28.000000    0.000000   \n",
       "75%     668.500000    1.000000    3.000000   38.000000    1.000000   \n",
       "max     891.000000    1.000000    3.000000   80.000000    8.000000   \n",
       "\n",
       "            Parch        Fare  \n",
       "count  891.000000  891.000000  \n",
       "mean     0.381594   32.204208  \n",
       "std      0.806057   49.693429  \n",
       "min      0.000000    0.000000  \n",
       "25%      0.000000    7.910400  \n",
       "50%      0.000000   14.454200  \n",
       "75%      0.000000   31.000000  \n",
       "max      6.000000  512.329200  "
      ]
     },
     "execution_count": 191,
     "metadata": {},
     "output_type": "execute_result"
    }
   ],
   "source": [
    "df_train.describe()"
   ]
  },
  {
   "cell_type": "markdown",
   "metadata": {
    "collapsed": true
   },
   "source": [
    "# Описание признаков"
   ]
  },
  {
   "cell_type": "markdown",
   "metadata": {},
   "source": [
    "## Survived"
   ]
  },
  {
   "cell_type": "markdown",
   "metadata": {},
   "source": [
    "Главный признак, который нужно предсказать - выжил человек в катастрофе или нет."
   ]
  },
  {
   "cell_type": "markdown",
   "metadata": {},
   "source": [
    "## Pclass"
   ]
  },
  {
   "cell_type": "markdown",
   "metadata": {},
   "source": [
    "Класс купленного билета. Вкдючает в себя 3 значения 1 (первый класс), 2 (второй), 3 (третий).\n",
    "Эвакуация людей проходила с верхних палуб, потому что там находились шлюпки. Это значит, что пассажиры 1го класса быстрее могли добраться до шлюпок. \n",
    "\n",
    "Соответственно, можно предположить, что больше всего спаслось пассажиров 1го класса, чуть меньше 2го и еще меньше 3го."
   ]
  },
  {
   "cell_type": "code",
   "execution_count": 192,
   "metadata": {},
   "outputs": [
    {
     "name": "stdout",
     "output_type": "stream",
     "text": [
      "1    62.962963\n",
      "2    47.282609\n",
      "3    24.236253\n",
      "Name: Pclass, dtype: float64\n"
     ]
    },
    {
     "data": {
      "image/png": "[encoded data removed]",
      "text/plain": [
       "<matplotlib.figure.Figure at 0x14a0f4a8>"
      ]
     },
     "metadata": {},
     "output_type": "display_data"
    }
   ],
   "source": [
    "import matplotlib.pyplot as plt\n",
    "allPassangers = df_train['Pclass'].value_counts()\n",
    "survived = df_train['Pclass'][df_train['Survived'] == 1].value_counts()\n",
    "pclass = (survived / allPassangers) * 100\n",
    "pclass.plot.bar()\n",
    "print(pclass)"
   ]
  },
  {
   "cell_type": "markdown",
   "metadata": {},
   "source": [
    "Предположение подтвердилось. Всего 24% пассажиров 3го класса спаслось!"
   ]
  },
  {
   "cell_type": "markdown",
   "metadata": {},
   "source": [
    "## Name"
   ]
  },
  {
   "cell_type": "markdown",
   "metadata": {},
   "source": [
    "Имя пассажира. Так же это поле может включать имена родственников.\n",
    "\n",
    "Не думаю, что это важно значение, стоит отказаться от этого признака."
   ]
  },
  {
   "cell_type": "markdown",
   "metadata": {},
   "source": [
    "## Sex"
   ]
  },
  {
   "cell_type": "markdown",
   "metadata": {},
   "source": [
    "Пол пассажира.\n",
    "\n",
    "Так как в первую очередь спасают женщин и детей, предполагаю, что женщин спаслось больше чем мужчин."
   ]
  },
  {
   "cell_type": "code",
   "execution_count": 193,
   "metadata": {},
   "outputs": [
    {
     "name": "stdout",
     "output_type": "stream",
     "text": [
      "female    74.203822\n",
      "male      18.890815\n",
      "Name: Sex, dtype: float64\n"
     ]
    },
    {
     "data": {
      "image/png": "[encoded data removed]",
      "text/plain": [
       "<matplotlib.figure.Figure at 0x13f01f60>"
      ]
     },
     "metadata": {},
     "output_type": "display_data"
    }
   ],
   "source": [
    "allPassangers = df_train['Sex'].value_counts()\n",
    "survived = df_train['Sex'][df_train['Survived'] == 1].value_counts()\n",
    "gender = (survived / allPassangers) * 100\n",
    "gender.plot.bar()\n",
    "print(gender)"
   ]
  },
  {
   "cell_type": "markdown",
   "metadata": {},
   "source": [
    "Так и есть."
   ]
  },
  {
   "cell_type": "markdown",
   "metadata": {},
   "source": [
    "## Age"
   ]
  },
  {
   "cell_type": "markdown",
   "metadata": {},
   "source": [
    "Возраст пассажира."
   ]
  },
  {
   "cell_type": "code",
   "execution_count": 194,
   "metadata": {},
   "outputs": [
    {
     "data": {
      "text/plain": [
       "count    714.000000\n",
       "mean      29.699118\n",
       "std       14.526497\n",
       "min        0.420000\n",
       "25%       20.125000\n",
       "50%       28.000000\n",
       "75%       38.000000\n",
       "max       80.000000\n",
       "Name: Age, dtype: float64"
      ]
     },
     "execution_count": 194,
     "metadata": {},
     "output_type": "execute_result"
    }
   ],
   "source": [
    "df_train['Age'].describe()"
   ]
  },
  {
   "cell_type": "code",
   "execution_count": 195,
   "metadata": {},
   "outputs": [
    {
     "data": {
      "text/plain": [
       "803    0.42\n",
       "755    0.67\n",
       "644    0.75\n",
       "469    0.75\n",
       "78     0.83\n",
       "831    0.83\n",
       "305    0.92\n",
       "827    1.00\n",
       "381    1.00\n",
       "164    1.00\n",
       "Name: Age, dtype: float64"
      ]
     },
     "execution_count": 195,
     "metadata": {},
     "output_type": "execute_result"
    }
   ],
   "source": [
    "df_train['Age'].sort_values().head(10)"
   ]
  },
  {
   "cell_type": "code",
   "execution_count": 196,
   "metadata": {},
   "outputs": [
    {
     "data": {
      "text/plain": [
       "280    65.0\n",
       "456    65.0\n",
       "33     66.0\n",
       "672    70.0\n",
       "745    70.0\n",
       "116    70.5\n",
       "493    71.0\n",
       "96     71.0\n",
       "851    74.0\n",
       "630    80.0\n",
       "Name: Age, dtype: float64"
      ]
     },
     "execution_count": 196,
     "metadata": {},
     "output_type": "execute_result"
    }
   ],
   "source": [
    "df_train['Age'].dropna().sort_values().tail(10)"
   ]
  },
  {
   "cell_type": "markdown",
   "metadata": {},
   "source": [
    "Разделим все возраста на 3 категории. Взрослые, дети и пожилые люди. И посмотрим какое количество спаслось из каждой категории."
   ]
  },
  {
   "cell_type": "code",
   "execution_count": 197,
   "metadata": {},
   "outputs": [
    {
     "name": "stdout",
     "output_type": "stream",
     "text": [
      "oldsters    26.923077\n",
      "adults      38.608696\n",
      "childs      53.982301\n",
      "dtype: float64\n"
     ]
    },
    {
     "data": {
      "image/png": "[encoded data removed]",
      "text/plain": [
       "<matplotlib.figure.Figure at 0x140e7c50>"
      ]
     },
     "metadata": {},
     "output_type": "display_data"
    }
   ],
   "source": [
    "ages = df_train[['Age', 'Survived']].dropna()\n",
    "childs = ages[ages['Age'] < 18]\n",
    "adults = ages[(ages['Age'] >= 18) & (ages['Age'] < 60)]\n",
    "oldsters = ages[ages['Age'] >= 60]\n",
    "age_cat = pd.Series({\n",
    "    'childs': float(len(childs[childs['Survived'] == 1])) / len(childs) * 100,\n",
    "    'adults': float(len(adults[adults['Survived'] == 1])) / len(adults) * 100,\n",
    "    'oldsters': float(len(oldsters[oldsters['Survived'] == 1])) / len(oldsters) * 100,\n",
    "})\n",
    "age_cat.sort_values(inplace=True)\n",
    "age_cat.plot.bar()\n",
    "print(age_cat)"
   ]
  },
  {
   "cell_type": "markdown",
   "metadata": {},
   "source": [
    "Как и ожидалось, детей спаслось больше всего!"
   ]
  },
  {
   "cell_type": "code",
   "execution_count": 64,
   "metadata": {},
   "outputs": [
    {
     "data": {
      "text/plain": [
       "adults      222\n",
       "childs       61\n",
       "oldsters      7\n",
       "dtype: int64"
      ]
     },
     "execution_count": 64,
     "metadata": {},
     "output_type": "execute_result"
    }
   ],
   "source": [
    "pd.Series({\n",
    "    'childs': len(childs[childs['Survived'] == 1]),\n",
    "    'adults':len(adults[adults['Survived'] == 1]),\n",
    "    'oldsters': len(oldsters[oldsters['Survived'] == 1]),\n",
    "})"
   ]
  },
  {
   "cell_type": "markdown",
   "metadata": {},
   "source": [
    "## SibSp"
   ]
  },
  {
   "cell_type": "markdown",
   "metadata": {},
   "source": [
    "Количество братьев и сестер на борту."
   ]
  },
  {
   "cell_type": "code",
   "execution_count": 155,
   "metadata": {},
   "outputs": [
    {
     "data": {
      "text/plain": [
       "with sublings       0.466431\n",
       "without sublings    0.742049\n",
       "dtype: float64"
      ]
     },
     "execution_count": 155,
     "metadata": {},
     "output_type": "execute_result"
    }
   ],
   "source": [
    "sibsp = pd.Series({\n",
    "    'with sublings': len(df_train[(df_train['SibSp'] > 0) & (df_train['Survived']== 1)]) / float(len(df_train[df_train['SibSp'] > 0])),\n",
    "    'without sublings': len(df_train[(df_train['SibSp'] == 0) & (df_train['Survived']== 1)]) / float(len(df_train[df_train['SibSp'] > 0]))\n",
    "})\n",
    "sibsp"
   ]
  },
  {
   "cell_type": "markdown",
   "metadata": {},
   "source": [
    "Видимо люди, которые ехали без братьев и сестер с большей вероятностью выживали."
   ]
  },
  {
   "cell_type": "markdown",
   "metadata": {},
   "source": [
    "## Parch"
   ]
  },
  {
   "cell_type": "markdown",
   "metadata": {},
   "source": [
    "Количество родителей или детей на борту (для конкретного пассажира)."
   ]
  },
  {
   "cell_type": "code",
   "execution_count": 154,
   "metadata": {},
   "outputs": [
    {
     "data": {
      "text/plain": [
       "with Parch       0.385159\n",
       "without Parch    0.823322\n",
       "dtype: float64"
      ]
     },
     "execution_count": 154,
     "metadata": {},
     "output_type": "execute_result"
    }
   ],
   "source": [
    "parch = pd.Series({\n",
    "    'with Parch': len(df_train[(df_train['Parch'] > 0) & (df_train['Survived']== 1)]) / float(len(df_train[df_train['SibSp'] > 0])),\n",
    "    'without Parch': len(df_train[(df_train['Parch'] == 0) & (df_train['Survived']== 1)]) / float(len(df_train[df_train['SibSp'] > 0]))\n",
    "})\n",
    "parch"
   ]
  },
  {
   "cell_type": "markdown",
   "metadata": {},
   "source": [
    "Видим, что людей без своих родителей и детей на борту спаслось больше."
   ]
  },
  {
   "cell_type": "markdown",
   "metadata": {},
   "source": [
    "## Ticket"
   ]
  },
  {
   "cell_type": "markdown",
   "metadata": {},
   "source": [
    "Номер билета. Думаю он нам не пригодится."
   ]
  },
  {
   "cell_type": "markdown",
   "metadata": {},
   "source": [
    "## Fare"
   ]
  },
  {
   "cell_type": "markdown",
   "metadata": {},
   "source": [
    "Стоимость билета. Предполагаю, чем выше цена, тем богаче каюта и важнее пассажир."
   ]
  },
  {
   "cell_type": "code",
   "execution_count": 74,
   "metadata": {},
   "outputs": [
    {
     "data": {
      "text/plain": [
       "count    891.000000\n",
       "mean      32.204208\n",
       "std       49.693429\n",
       "min        0.000000\n",
       "25%        7.910400\n",
       "50%       14.454200\n",
       "75%       31.000000\n",
       "max      512.329200\n",
       "Name: Fare, dtype: float64"
      ]
     },
     "execution_count": 74,
     "metadata": {},
     "output_type": "execute_result"
    }
   ],
   "source": [
    "df_train['Fare'].describe()"
   ]
  },
  {
   "cell_type": "code",
   "execution_count": 84,
   "metadata": {},
   "outputs": [
    {
     "data": {
      "text/plain": [
       "Pclass\n",
       "1    84.154687\n",
       "2    20.662183\n",
       "3    13.675550\n",
       "Name: Fare, dtype: float64"
      ]
     },
     "execution_count": 84,
     "metadata": {},
     "output_type": "execute_result"
    }
   ],
   "source": [
    "df_train.groupby('Pclass')['Fare'].mean()"
   ]
  },
  {
   "cell_type": "code",
   "execution_count": 85,
   "metadata": {},
   "outputs": [
    {
     "data": {
      "text/plain": [
       "Pclass\n",
       "1    95.608029\n",
       "2    22.055700\n",
       "3    13.694887\n",
       "Name: Fare, dtype: float64"
      ]
     },
     "execution_count": 85,
     "metadata": {},
     "output_type": "execute_result"
    }
   ],
   "source": [
    "df_train[df_train['Survived'] == 1].groupby('Pclass')['Fare'].mean()"
   ]
  },
  {
   "cell_type": "markdown",
   "metadata": {},
   "source": [
    "В среднем билет выжевшего стоить чуть дороже."
   ]
  },
  {
   "cell_type": "markdown",
   "metadata": {},
   "source": [
    "## Сabin"
   ]
  },
  {
   "cell_type": "markdown",
   "metadata": {},
   "source": [
    "Номер каюты."
   ]
  },
  {
   "cell_type": "code",
   "execution_count": 86,
   "metadata": {},
   "outputs": [
    {
     "data": {
      "text/plain": [
       "count             204\n",
       "unique            147\n",
       "top       C23 C25 C27\n",
       "freq                4\n",
       "Name: Cabin, dtype: object"
      ]
     },
     "execution_count": 86,
     "metadata": {},
     "output_type": "execute_result"
    }
   ],
   "source": [
    "df_train['Cabin'].describe()"
   ]
  },
  {
   "cell_type": "markdown",
   "metadata": {},
   "source": [
    "Каюты указаны всего у 204 человек. И уникальных из них 147, это значит, что 57 пассажиров жили в тех же кютах.\n",
    "Можно предположить, что кол-во человек в каюте, как-то влияет на выживание.\n",
    "\n",
    "Но здесь мало данных, и я думаю стоит игнорировать этот признак."
   ]
  },
  {
   "cell_type": "markdown",
   "metadata": {},
   "source": [
    "## Embarked"
   ]
  },
  {
   "cell_type": "markdown",
   "metadata": {},
   "source": [
    "Порт посадки пассажира на корабль. Всего их три - C = Cherbourg, Q = Queenstown, S = Southampton."
   ]
  },
  {
   "cell_type": "code",
   "execution_count": 87,
   "metadata": {},
   "outputs": [
    {
     "data": {
      "text/plain": [
       "S    0.336957\n",
       "C    0.553571\n",
       "Q    0.389610\n",
       "Name: Embarked, dtype: float64"
      ]
     },
     "execution_count": 87,
     "metadata": {},
     "output_type": "execute_result"
    }
   ],
   "source": [
    "df_train[df_train['Survived'] == 1]['Embarked'].value_counts() / df_train['Embarked'].value_counts()"
   ]
  },
  {
   "cell_type": "code",
   "execution_count": 88,
   "metadata": {},
   "outputs": [
    {
     "data": {
      "text/plain": [
       "S    217\n",
       "C     93\n",
       "Q     30\n",
       "Name: Embarked, dtype: int64"
      ]
     },
     "execution_count": 88,
     "metadata": {},
     "output_type": "execute_result"
    }
   ],
   "source": [
    "df_train[df_train['Survived'] == 1]['Embarked'].value_counts()"
   ]
  },
  {
   "cell_type": "code",
   "execution_count": 89,
   "metadata": {},
   "outputs": [
    {
     "data": {
      "text/plain": [
       "S    644\n",
       "C    168\n",
       "Q     77\n",
       "Name: Embarked, dtype: int64"
      ]
     },
     "execution_count": 89,
     "metadata": {},
     "output_type": "execute_result"
    }
   ],
   "source": [
    "df_train['Embarked'].value_counts()"
   ]
  },
  {
   "cell_type": "markdown",
   "metadata": {},
   "source": [
    "Я думаю, место посадки ни как не влияет на выживание пассажира и нужно избавиться от этого признака."
   ]
  },
  {
   "cell_type": "markdown",
   "metadata": {},
   "source": [
    "# Итог по признакам"
   ]
  },
  {
   "cell_type": "markdown",
   "metadata": {},
   "source": [
    "Есть ряд признаков, которые, на мой взгляд, не влияют на выживание пассажира это - Embarked, Сabin, Ticket, Name.\n",
    "Так же из статистики можно выделить сильно коррелирующие признаки это - Pclass, Sex, SibSp, Parch, Age."
   ]
  },
  {
   "cell_type": "markdown",
   "metadata": {},
   "source": [
    "# The План"
   ]
  },
  {
   "cell_type": "markdown",
   "metadata": {},
   "source": [
    "Для начала я избавлюсь от мусорных признаков. Далее проведу 3 эксперимента.\n",
    "\n",
    "1. Построить модели без преобразования признаков.\n",
    "2. Преобразовать признаки. И посторить модели.\n",
    "3. Выбрать 2-3 сильно коррелирующих признака, преобразовать и посторить модели."
   ]
  },
  {
   "cell_type": "markdown",
   "metadata": {},
   "source": [
    "## Преобразование признаков"
   ]
  },
  {
   "cell_type": "markdown",
   "metadata": {},
   "source": [
    "Из статистики я вижу, что вероятность выжить возрастает:\n",
    "    - чем меньше возраст\n",
    "    - чем меньше класс\n",
    "    - если пассажир женщина\n",
    "    - если пассажир не имеет родителей на борту\n",
    "    - если пассажир не имеет братьев и сестер\n",
    "Можно заменить все эти признаки вероятностями из статистики.\n",
    "Можно сложить колво родителей и братьев и сестер и так же посчитать вероятность.\n",
    "Тем самым, я приведу все эти признаки к единому масштабу."
   ]
  },
  {
   "cell_type": "markdown",
   "metadata": {},
   "source": [
    "## Набор моделей"
   ]
  },
  {
   "cell_type": "markdown",
   "metadata": {},
   "source": [
    "1. knn, кло-во соседей\n",
    "2. LogisticRegression, CV\n",
    "3. RandomForest, кол-во деревьев\n"
   ]
  },
  {
   "cell_type": "markdown",
   "metadata": {},
   "source": [
    "## Кросс-валидация"
   ]
  },
  {
   "cell_type": "markdown",
   "metadata": {},
   "source": [
    "Процедура эмпирического оценивания обобщающей способности алгоритмов, обучаемых по прецедентам.\n",
    "\n",
    "Фиксируется некоторое множество разбиений исходной выборки на две подвыборки: обучающую и контрольную. Для каждого разбиения выполняется настройка алгоритма по обучающей подвыборке, затем оценивается его средняя ошибка на объектах контрольной подвыборки. Оценкой скользящего контроля называется средняя по всем разбиениям величина ошибки на контрольных подвыборках.\n",
    "\n",
    "Если выборка независима, то средняя ошибка скользящего контроля даёт несмещённую оценку вероятности ошибки. Это выгодно отличает её от средней ошибки на обучающей выборке, которая может оказаться смещённой (оптимистически заниженной) оценкой вероятности ошибки, что связано с явлением переобучения."
   ]
  },
  {
   "cell_type": "markdown",
   "metadata": {},
   "source": [
    "# Подготовка"
   ]
  },
  {
   "cell_type": "code",
   "execution_count": 129,
   "metadata": {},
   "outputs": [],
   "source": [
    "def save_submission(file_name, y_test):\n",
    "    df_predicted = pd.DataFrame({'PassengerId': df_test['PassengerId'], 'Survived': y_test})\n",
    "    df_predicted.to_csv(file_name, sep=',', index=False)\n",
    "\n",
    "def get_usefull(df):\n",
    "    return df[['Pclass', 'SibSp', 'Parch', 'Age', 'Fare']]\n",
    "\n",
    "def get_sex_col(df):\n",
    "    return df[['Sex']]\n",
    "\n",
    "from sklearn.preprocessing import LabelEncoder\n",
    "class LabelEncoderPipelineFriendly(LabelEncoder):\n",
    "    \n",
    "    def fit(self, X, y=None):\n",
    "        \"\"\"this would allow us to fit the model based on the X input.\"\"\"\n",
    "        super(LabelEncoderPipelineFriendly, self).fit(X)\n",
    "        \n",
    "    def transform(self, X, y=None):\n",
    "        return super(LabelEncoderPipelineFriendly, self).transform(X).reshape(-1, 1)\n",
    "\n",
    "    def fit_transform(self, X, y=None):\n",
    "        return super(LabelEncoderPipelineFriendly, self).fit(X).transform(X).reshape(-1, 1)\n",
    "    \n",
    "from sklearn.pipeline import make_union, make_pipeline\n",
    "from sklearn.preprocessing import FunctionTransformer, LabelEncoder, MinMaxScaler,  Imputer, LabelBinarizer, OneHotEncoder\n",
    "from sklearn.feature_extraction import DictVectorizer\n",
    "\n",
    "baseTransform = make_union(*[\n",
    "    make_pipeline(FunctionTransformer(get_sex_col, validate=False), LabelEncoderPipelineFriendly()),\n",
    "    make_pipeline(FunctionTransformer(get_usefull, validate=False), Imputer(strategy='mean')),\n",
    "])"
   ]
  },
  {
   "cell_type": "markdown",
   "metadata": {},
   "source": [
    "# Эксперимент №1"
   ]
  },
  {
   "cell_type": "code",
   "execution_count": 108,
   "metadata": {},
   "outputs": [],
   "source": [
    "X = baseTransform.fit_transform(df_train)\n",
    "y = df_train['Survived']\n",
    "\n",
    "\n",
    "#--------------- Разбиваем выборку на тестовую и тренировочную\n",
    "from sklearn.cross_validation import train_test_split\n",
    "X_train, X_test, y_train, y_test = train_test_split(X, y, test_size = 0.3, random_state = 11)"
   ]
  },
  {
   "cell_type": "code",
   "execution_count": 140,
   "metadata": {},
   "outputs": [],
   "source": [
    "#--------------- !!!!! kNN – метод ближайших соседей !!!!!\n",
    "from sklearn.neighbors import KNeighborsClassifier\n",
    "#--------------- Поиск оптимальных значений параметров\n",
    "from sklearn.grid_search import GridSearchCV\n",
    "\n",
    "def knn_cls(X_train, X_test, y_train, y_test):\n",
    "    n_neighbors_array = [1, 3, 5, 7, 10, 15]\n",
    "    knn = KNeighborsClassifier()\n",
    "    grid = GridSearchCV(knn, param_grid={'n_neighbors': n_neighbors_array})\n",
    "    grid.fit(X_train, y_train)\n",
    "\n",
    "    best_cv_err = 1 - grid.best_score_\n",
    "    best_n_neighbors = grid.best_estimator_.n_neighbors\n",
    "    \n",
    "    knn = KNeighborsClassifier(n_neighbors=best_n_neighbors)\n",
    "    knn.fit(X_train, y_train)\n",
    "\n",
    "    err_train = np.mean(y_train != knn.predict(X_train))\n",
    "    err_test  = np.mean(y_test  != knn.predict(X_test))\n",
    "    print ('KNN - ', err_train, err_test)\n",
    "    return knn\n"
   ]
  },
  {
   "cell_type": "code",
   "execution_count": 141,
   "metadata": {},
   "outputs": [
    {
     "name": "stdout",
     "output_type": "stream",
     "text": [
      "('KNN - ', 0.27447833065810595, 0.30597014925373134)\n"
     ]
    }
   ],
   "source": [
    "knn = knn_cls(X_train, X_test, y_train, y_test)"
   ]
  },
  {
   "cell_type": "code",
   "execution_count": 142,
   "metadata": {},
   "outputs": [],
   "source": [
    "#--------------- !!!!! LogisticRegression – логистическая регрессия !!!!!\n",
    "from sklearn.linear_model import LogisticRegressionCV\n",
    "def log_reg(X_train, X_test, y_train, y_test):\n",
    "    cv_array = [5, 7, 10, 13, 20]\n",
    "    lr = LogisticRegressionCV()\n",
    "    grid = GridSearchCV(lr, param_grid={'cv': cv_array})\n",
    "    grid.fit(X_train, y_train)\n",
    "\n",
    "    best_cv_err = 1 - grid.best_score_\n",
    "    best_cv = grid.best_estimator_.cv\n",
    "    lr = LogisticRegressionCV(cv=best_cv)\n",
    "    lr.fit(X_train, y_train)\n",
    "    err_train = np.mean(y_train != lr.predict(X_train))\n",
    "    err_test  = np.mean(y_test  != lr.predict(X_test))\n",
    "    print ('LogisticRegression - ', err_train, err_test)\n",
    "    return lr"
   ]
  },
  {
   "cell_type": "code",
   "execution_count": 143,
   "metadata": {},
   "outputs": [
    {
     "name": "stdout",
     "output_type": "stream",
     "text": [
      "('LogisticRegression - ', 0.2231139646869984, 0.17164179104477612)\n"
     ]
    }
   ],
   "source": [
    "lr = log_reg(X_train, X_test, y_train, y_test)"
   ]
  },
  {
   "cell_type": "code",
   "execution_count": 145,
   "metadata": {},
   "outputs": [],
   "source": [
    "#--------------- !!!!! Random Forest – случайный лес !!!!!\n",
    "from sklearn import ensemble\n",
    "def ran_for(X_train, X_test, y_train, y_test):\n",
    "    n_est_array = [10, 50, 100, 150, 300];\n",
    "    rf = ensemble.RandomForestClassifier()\n",
    "    grid = GridSearchCV(rf, param_grid={'n_estimators': n_est_array})\n",
    "    grid.fit(X_train, y_train)\n",
    "    best_cv_err = 1 - grid.best_score_\n",
    "    best_n_est = grid.best_estimator_.n_estimators\n",
    "    rf = ensemble.RandomForestClassifier(n_estimators=best_n_est)\n",
    "    rf.fit(X_train, y_train)\n",
    "\n",
    "    err_train = np.mean(y_train != rf.predict(X_train))\n",
    "    err_test  = np.mean(y_test  != rf.predict(X_test))\n",
    "    print ('Random Forest - ',err_train, err_test)\n",
    "    return rf"
   ]
  },
  {
   "cell_type": "code",
   "execution_count": 146,
   "metadata": {},
   "outputs": [
    {
     "name": "stdout",
     "output_type": "stream",
     "text": [
      "('Random Forest - ', 0.012841091492776886, 0.17164179104477612)\n"
     ]
    }
   ],
   "source": [
    "rf = ran_for(X_train, X_test, y_train, y_test)"
   ]
  },
  {
   "cell_type": "markdown",
   "metadata": {},
   "source": [
    "## Результат"
   ]
  },
  {
   "cell_type": "markdown",
   "metadata": {},
   "source": [
    "Я привел признак Sex к числовому, заменил не достающие значение средним по признаку. Более преобразований не делал.\n",
    "Лучше всего себя показали Random Forest и LogisticRegression - их ошибка на тестовой выборке одинаковая и равна 0.17164179104477612"
   ]
  },
  {
   "cell_type": "code",
   "execution_count": 147,
   "metadata": {},
   "outputs": [],
   "source": [
    "x_res = baseTransform.fit_transform(df_test)\n",
    "y_res = rf.predict(x_res)\n",
    "save_submission('first_exp.csv', y_res)"
   ]
  },
  {
   "cell_type": "markdown",
   "metadata": {},
   "source": [
    "результат на кагле - 0.72727"
   ]
  },
  {
   "cell_type": "code",
   "execution_count": 148,
   "metadata": {
    "collapsed": true
   },
   "outputs": [],
   "source": [
    "y_res = lr.predict(x_res)\n",
    "save_submission('first_exp_lr.csv', y_res)"
   ]
  },
  {
   "cell_type": "markdown",
   "metadata": {},
   "source": [
    "результат на кагле - 0.75119"
   ]
  },
  {
   "cell_type": "markdown",
   "metadata": {},
   "source": [
    "# Эксперимент 2"
   ]
  },
  {
   "cell_type": "code",
   "execution_count": 256,
   "metadata": {},
   "outputs": [],
   "source": [
    "def modify_pclass(df):\n",
    "    return df['Pclass'].map(pclass)\n",
    "\n",
    "def modify_gender(df):\n",
    "    return df['Sex'].map(gender)\n",
    "\n",
    "def get_cat_value(age):\n",
    "    if age < 18:\n",
    "        return age_cat['childs']\n",
    "    if age > 60:\n",
    "        return age_cat['oldsters']\n",
    "    return age_cat['adults']\n",
    "\n",
    "def modify_age(df):\n",
    "    return df['Age'].map(get_cat_value)\n",
    "\n",
    "def get_sibsp_value(sibsp_value):\n",
    "    if sibsp_value == 0:\n",
    "        return sibsp['without sublings']\n",
    "    return sibsp['with sublings']\n",
    "\n",
    "def modify_sibsp(df):\n",
    "    return df['SibSp'].map(get_sibsp_value)\n",
    "\n",
    "def get_parch_value(parch_value):\n",
    "    if parch_value == 0:\n",
    "        return parch['without Parch']\n",
    "    return parch['with Parch']\n",
    "\n",
    "def modify_parch(df):\n",
    "    return df['Parch'].map(get_parch_value)\n",
    "\n",
    "def get_age(df):\n",
    "    return df[['Age']]\n",
    "\n",
    "def proba_transform(df):\n",
    "    return pd.DataFrame({\n",
    "        'p': modify_pclass(df),\n",
    "        'g': modify_gender(df),\n",
    "        'a': modify_age(df),\n",
    "        's': modify_sibsp(df),\n",
    "        'pa': modify_parch(df)\n",
    "    })\n",
    "probaTransform = make_union(*[\n",
    "    make_pipeline(FunctionTransformer(proba_transform, validate=False), Imputer(strategy='mean')),\n",
    "])"
   ]
  },
  {
   "cell_type": "code",
   "execution_count": 257,
   "metadata": {},
   "outputs": [],
   "source": [
    "X = probaTransform.fit_transform(df_train)\n",
    "y = df_train['Survived']\n",
    "\n",
    "#--------------- Разбиваем выборку на тестовую и тренировочную\n",
    "from sklearn.cross_validation import train_test_split\n",
    "args = train_test_split(X, y, test_size = 0.3, random_state = 11)"
   ]
  },
  {
   "cell_type": "code",
   "execution_count": 258,
   "metadata": {},
   "outputs": [
    {
     "name": "stdout",
     "output_type": "stream",
     "text": [
      "('KNN - ', 0.2231139646869984, 0.18656716417910449)\n"
     ]
    }
   ],
   "source": [
    "knn = knn_cls(*args)"
   ]
  },
  {
   "cell_type": "code",
   "execution_count": 259,
   "metadata": {},
   "outputs": [
    {
     "name": "stdout",
     "output_type": "stream",
     "text": [
      "('LogisticRegression - ', 0.20545746388443017, 0.17910447761194029)\n"
     ]
    }
   ],
   "source": [
    "lr = log_reg(*args)"
   ]
  },
  {
   "cell_type": "code",
   "execution_count": 249,
   "metadata": {},
   "outputs": [
    {
     "name": "stdout",
     "output_type": "stream",
     "text": [
      "('Random Forest - ', 0.18459069020866772, 0.16791044776119404)\n"
     ]
    }
   ],
   "source": [
    "rf = ran_for(*args)"
   ]
  },
  {
   "cell_type": "markdown",
   "metadata": {},
   "source": [
    "## Результат"
   ]
  },
  {
   "cell_type": "code",
   "execution_count": 261,
   "metadata": {},
   "outputs": [],
   "source": [
    "x_res = probaTransform.fit_transform(df_test)\n",
    "y_res = rf.predict(x_res)\n",
    "save_submission('second_exp_rf.csv', y_res)"
   ]
  },
  {
   "cell_type": "markdown",
   "metadata": {},
   "source": [
    "результат на кагле 0.77033"
   ]
  },
  {
   "cell_type": "code",
   "execution_count": 262,
   "metadata": {
    "collapsed": true
   },
   "outputs": [],
   "source": [
    "y_res = lr.predict(x_res)\n",
    "save_submission('second_exp_lr.csv', y_res)"
   ]
  },
  {
   "cell_type": "markdown",
   "metadata": {},
   "source": [
    "результат на кагле 0.76555"
   ]
  },
  {
   "cell_type": "code",
   "execution_count": 263,
   "metadata": {
    "collapsed": true
   },
   "outputs": [],
   "source": [
    "y_res = knn.predict(x_res)\n",
    "save_submission('second_exp_knn.csv', y_res)"
   ]
  },
  {
   "cell_type": "markdown",
   "metadata": {},
   "source": [
    "результат на кагле 0.72248"
   ]
  },
  {
   "cell_type": "markdown",
   "metadata": {},
   "source": [
    "# Эксперимент 3"
   ]
  },
  {
   "cell_type": "code",
   "execution_count": 266,
   "metadata": {},
   "outputs": [
    {
     "name": "stdout",
     "output_type": "stream",
     "text": [
      "('KNN - ', 0.2086677367576244, 0.18283582089552239)\n",
      "('LogisticRegression - ', 0.2247191011235955, 0.17537313432835822)\n",
      "('Random Forest - ', 0.20545746388443017, 0.17537313432835822)\n"
     ]
    }
   ],
   "source": [
    "def proba_transform(df):\n",
    "    return pd.DataFrame({\n",
    "        'p': modify_pclass(df),\n",
    "        'g': modify_gender(df),\n",
    "        'a': modify_age(df)\n",
    "    })\n",
    "probaTransform = make_union(*[\n",
    "    make_pipeline(FunctionTransformer(proba_transform, validate=False), Imputer(strategy='mean')),\n",
    "])\n",
    "X = probaTransform.fit_transform(df_train)\n",
    "y = df_train['Survived']\n",
    "\n",
    "#--------------- Разбиваем выборку на тестовую и тренировочную\n",
    "from sklearn.cross_validation import train_test_split\n",
    "args = train_test_split(X, y, test_size = 0.3, random_state = 11)\n",
    "knn = knn_cls(*args)\n",
    "lr = log_reg(*args)\n",
    "rf = ran_for(*args)\n",
    "x_res = probaTransform.fit_transform(df_test)\n",
    "y_res = rf.predict(x_res)\n",
    "save_submission('third_exp_rf.csv', y_res)\n",
    "y_res = lr.predict(x_res)\n",
    "save_submission('third_exp_lr.csv', y_res)\n",
    "y_res = knn.predict(x_res)\n",
    "save_submission('third_exp_knn.csv', y_res)"
   ]
  },
  {
   "cell_type": "markdown",
   "metadata": {},
   "source": [
    "## Результаты"
   ]
  },
  {
   "cell_type": "markdown",
   "metadata": {},
   "source": [
    "На кагле модели показали следующие результаты:\n",
    "    - knn - 0.76076\n",
    "    - LogisticRegression - 0.77033\n",
    "    - Random Forest - 0.77033"
   ]
  },
  {
   "cell_type": "markdown",
   "metadata": {},
   "source": [
    "# Итого"
   ]
  },
  {
   "cell_type": "markdown",
   "metadata": {},
   "source": [
    "Модели с преобразованием признаков в вероятности показали себя лучше (чем без преобразования и чуть лучше чем сабмит с занятия), примерно на 0.02.\n",
    "Уменьшение количества признаков в 3м эксперименте не привело к улучшению общего результата, но у LogisticRegression и Knn результат подскочил (особенно у knn), что интересно."
   ]
  },
  {
   "cell_type": "markdown",
   "metadata": {},
   "source": [
    "Я подумал, что преобразование признаков в вероятности в общем-то не плохая идея, но, я думаю это подходит для ограниченного набора элементов, например, для пола(Sex) или класса (Pclass). А еще в полном наборе данных эта вероятность может быть совершенно другой.\n",
    "\n",
    "Такие поля как SibSp, Parch, Fare стоит масштабировать другим способом.\n",
    "\n",
    "Поэтому попробую еще разок :)"
   ]
  },
  {
   "cell_type": "markdown",
   "metadata": {},
   "source": [
    "# Эксперимент 4. Последняя надежда."
   ]
  },
  {
   "cell_type": "code",
   "execution_count": 278,
   "metadata": {},
   "outputs": [],
   "source": [
    "from sklearn.preprocessing import FunctionTransformer, StandardScaler, Imputer\n",
    "def proba_transform(df):\n",
    "    return pd.DataFrame({\n",
    "        'p': modify_pclass(df),\n",
    "        'g': modify_gender(df),\n",
    "    })\n",
    "\n",
    "def get_scalable_cols(df):\n",
    "    return df[['SibSp', 'Parch', 'Fare']]\n",
    "\n",
    "last_hope = make_union(*[\n",
    "    make_pipeline(FunctionTransformer(proba_transform, validate=False)),\n",
    "    make_pipeline(FunctionTransformer(get_scalable_cols, validate=False), Imputer(strategy='mean'), StandardScaler()),\n",
    "])"
   ]
  },
  {
   "cell_type": "code",
   "execution_count": 279,
   "metadata": {},
   "outputs": [],
   "source": [
    "X = last_hope.fit_transform(df_train)\n",
    "y = df_train['Survived']\n",
    "\n",
    "def predict_all(X, y, filename):\n",
    "    args = train_test_split(X, y, test_size = 0.3, random_state = 11)\n",
    "    knn = knn_cls(*args)\n",
    "    lr = log_reg(*args)\n",
    "    rf = ran_for(*args)\n",
    "    x_res = last_hope.fit_transform(df_test)\n",
    "    \n",
    "    y_res = rf.predict(x_res)\n",
    "    save_submission(filename + '_rf.csv', y_res)\n",
    "    y_res = lr.predict(x_res)\n",
    "    save_submission(filename + '_lr.csv', y_res)\n",
    "    y_res = knn.predict(x_res)\n",
    "    save_submission(filename + '_knn.csv', y_res)\n",
    "    print('Done')"
   ]
  },
  {
   "cell_type": "code",
   "execution_count": 280,
   "metadata": {},
   "outputs": [
    {
     "name": "stdout",
     "output_type": "stream",
     "text": [
      "('KNN - ', 0.15569823434991975, 0.21268656716417911)\n",
      "('LogisticRegression - ', 0.21508828250401285, 0.16417910447761194)\n",
      "('Random Forest - ', 0.078651685393258425, 0.18283582089552239)\n",
      "Done\n"
     ]
    }
   ],
   "source": [
    "predict_all(X, y, 'fourth_exp')"
   ]
  },
  {
   "cell_type": "markdown",
   "metadata": {},
   "source": [
    "knn - 0.73684\n",
    "LogisticRegression - 0.77033\n",
    "Random Forest - 0.75119"
   ]
  }
 ],
 "metadata": {
  "kernelspec": {
   "display_name": "Python 2",
   "language": "python",
   "name": "python2"
  },
  "language_info": {
   "codemirror_mode": {
    "name": "ipython",
    "version": 2
   },
   "file_extension": ".py",
   "mimetype": "text/x-python",
   "name": "python",
   "nbconvert_exporter": "python",
   "pygments_lexer": "ipython2",
   "version": "2.7.13"
  }
 },
 "nbformat": 4,
 "nbformat_minor": 2
}
